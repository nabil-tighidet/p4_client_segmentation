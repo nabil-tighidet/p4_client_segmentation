{
 "cells": [
  {
   "cell_type": "code",
   "execution_count": 1,
   "metadata": {
    "executionInfo": {
     "elapsed": 2208,
     "status": "ok",
     "timestamp": 1657006299863,
     "user": {
      "displayName": "Nabil Tighidet",
      "userId": "12566598302236413236"
     },
     "user_tz": -120
    },
    "id": "1LsH0l_biAJr"
   },
   "outputs": [],
   "source": [
    "import pandas as pd\n",
    "import numpy as np\n",
    "from numpy.linalg import norm\n",
    "import matplotlib.pyplot as plt\n",
    "import seaborn as sns\n",
    "from sklearn.decomposition import PCA\n",
    "from sklearn.cluster import KMeans\n",
    "from sklearn.preprocessing import StandardScaler\n",
    "from sklearn.metrics.cluster import (\n",
    "    v_measure_score,\n",
    "    silhouette_score,\n",
    "    davies_bouldin_score,\n",
    "    homogeneity_score,\n",
    "    rand_score,\n",
    "    adjusted_rand_score,\n",
    ")\n",
    "from sklearn.impute import SimpleImputer\n",
    "import io\n",
    "from IPython.display import clear_output\n",
    "from datetime import datetime, timedelta"
   ]
  },
  {
   "cell_type": "markdown",
   "metadata": {},
   "source": [
    "# Simulation et détermination de la fréquence de mise à jour"
   ]
  },
  {
   "cell_type": "code",
   "execution_count": 8,
   "metadata": {
    "executionInfo": {
     "elapsed": 12,
     "status": "ok",
     "timestamp": 1657006340772,
     "user": {
      "displayName": "Nabil Tighidet",
      "userId": "12566598302236413236"
     },
     "user_tz": -120
    },
    "id": "Q7rWJqBDF8Us"
   },
   "outputs": [],
   "source": [
    "def customers_dataset(orders_model, start_date, end_date):\n",
    "    \"\"\"\n",
    "    Cette fonction permet de passer du dataset des commandes à celui des clients en exploitant le customer_id\n",
    "    et le customer_unique_id.\n",
    "    Les deux paramètres start_date et end_date permet de limiter les commande à celle ayant été réalisée entre ces\n",
    "    deux dates.\n",
    "    \"\"\"\n",
    "    # Filtrage sur la période souhaitée\n",
    "    orders_update = orders_model[\n",
    "        (orders_model[\"order_purchase_timestamp\"] < end_date)\n",
    "        & (orders_model[\"order_purchase_timestamp\"] >= start_date)\n",
    "    ]\n",
    "    # Importation du dataset contenant les informations sur les clients\n",
    "    customers = pd.read_csv(r\"data/olist_customers_dataset.csv\", encoding=\"utf-8\")\n",
    "    # Récupération des commandes réalisée par les clients\n",
    "    customers = customers.merge(\n",
    "        orders_update[\n",
    "            [\n",
    "                \"customer_id\",\n",
    "                \"order_purchase_timestamp\",\n",
    "                \"payment_value\",\n",
    "                \"payment_installments\",\n",
    "                \"review_score\",\n",
    "            ]\n",
    "        ],\n",
    "        how=\"right\",\n",
    "        on=[\"customer_id\"],\n",
    "    )\n",
    "\n",
    "    most_recent_date = orders_update[\n",
    "        \"order_purchase_timestamp\"\n",
    "    ].max()  # date de la commande la plus récente\n",
    "    customers[\"recency_customer\"] = (\n",
    "        most_recent_date - customers[\"order_purchase_timestamp\"]\n",
    "    ).apply(lambda ts: ts.days)\n",
    "    # Passage à une vision client unique.\n",
    "    customers = customers.groupby([\"customer_unique_id\"]).agg(\n",
    "        {\n",
    "            \"recency_customer\": \"mean\",\n",
    "            \"customer_id\": lambda x: len(np.unique(x)),\n",
    "            \"payment_value\": \"sum\",\n",
    "            \"payment_installments\": \"mean\",\n",
    "            \"review_score\": \"mean\",\n",
    "        }\n",
    "    )\n",
    "    customers = customers.rename(columns={\"customer_id\": \"number_of_orders\"})\n",
    "    # Imputation des données manquantes\n",
    "    customers[\"payment_installments\"] = customers[\"payment_installments\"].fillna(1)\n",
    "    customers[\"review_score\"] = customers[\"review_score\"].fillna(\n",
    "        customers[\"review_score\"].mean()\n",
    "    )\n",
    "    customers = customers.reset_index()\n",
    "    return customers"
   ]
  },
  {
   "cell_type": "code",
   "execution_count": 5,
   "metadata": {
    "id": "nm91o42XPTeT"
   },
   "outputs": [],
   "source": [
    "# Jointure entre le dataset des commandes, celui des payements, des produits et des notes de satisfactions.\n",
    "\n",
    "# importations\n",
    "orders = pd.read_csv(r\"data/olist_orders_dataset.csv\", encoding=\"utf-8\")\n",
    "order_items = pd.read_csv(r\"data/olist_order_items_dataset.csv\", encoding=\"utf-8\")\n",
    "order_payments = pd.read_csv(r\"data/olist_order_payments_dataset.csv\", encoding=\"utf-8\")\n",
    "order_reviews = pd.read_csv(r\"data/olist_order_reviews_dataset.csv\", encoding=\"utf-8\")\n",
    "products = pd.read_csv(r\"data/olist_products_dataset.csv\", encoding=\"utf-8\")\n",
    "category_translation = pd.read_csv(\n",
    "    r\"data/product_category_name_translation.csv\", encoding=\"utf-8\"\n",
    ")\n",
    "\n",
    "# Jointures\n",
    "orders_1 = orders.merge(order_items, on=[\"order_id\"], how=\"left\")\n",
    "orders_2 = orders_1.merge(order_payments, on=[\"order_id\"], how=\"left\")\n",
    "orders_3 = orders_2.merge(order_reviews, on=[\"order_id\"], how=\"left\")\n",
    "orders_4 = orders_3.merge(products, on=[\"product_id\"], how=\"left\")\n",
    "\n",
    "# Traduction des catégories de produits\n",
    "orders_4[\"product_category_name_english\"] = orders_4[\"product_category_name\"].map(\n",
    "    category_translation.set_index(\"product_category_name\")[\n",
    "        \"product_category_name_english\"\n",
    "    ]\n",
    ")\n",
    "orders_4 = orders_4.drop(columns=[\"product_category_name\"])\n",
    "orders_4 = orders_4.rename(\n",
    "    columns={\"product_category_name_english\": \"product_category_name\"}\n",
    ")\n",
    "\n",
    "orders_info = orders_4"
   ]
  },
  {
   "cell_type": "code",
   "execution_count": 6,
   "metadata": {
    "id": "Tzhu0uLgPSFc"
   },
   "outputs": [],
   "source": [
    "# Selection des variables pertinentes pour la segmentation client.\n",
    "to_keep = [\n",
    "    \"order_id\",\n",
    "    \"customer_id\",\n",
    "    \"order_purchase_timestamp\",\n",
    "    \"freight_value\",\n",
    "    \"payment_value\",\n",
    "    \"payment_installments\",\n",
    "    \"review_score\",\n",
    "    \"review_comment_message\",\n",
    "]\n",
    "orders_model = orders_info[to_keep].copy(deep=True)\n",
    "orders_model[\"order_purchase_timestamp\"] = orders_model[\n",
    "    \"order_purchase_timestamp\"\n",
    "].apply(pd.to_datetime)"
   ]
  },
  {
   "cell_type": "code",
   "execution_count": 12,
   "metadata": {},
   "outputs": [],
   "source": [
    "def standardize(dataset):\n",
    "    from sklearn.preprocessing import StandardScaler\n",
    "    vtype ={'customer_unique_id':'num',\n",
    "        'geolocation_lat':'num',\n",
    "        'geolocation_lng':'num',\n",
    "        'freight_value':'num',\n",
    "        'payment_value':'num',\n",
    "        'payment_installments':'num',\n",
    "        'review_score':'num',\n",
    "        'review_comment':'cat',\n",
    "        'number_of_orders':'num',\n",
    "        'number_of_items':'num',\n",
    "        'recency_customer':'num',\n",
    "        'credit_card':'cat',\n",
    "        'voucher':'cat',\n",
    "        'boleto':'cat',\n",
    "        'debit_card':'cat',\n",
    "        'not_defined':'cat',\n",
    "        'home':'cat',\n",
    "        'beauty':'cat', \n",
    "        'office':'cat',\n",
    "        'multimedia':'cat',\n",
    "        'children':'cat',\n",
    "        'construction':'cat',\n",
    "        'fashion':'cat',\n",
    "        'sport':'cat',\n",
    "        'books':'cat',\n",
    "        'food':'cat',\n",
    "        'industry':'cat',\n",
    "        'other':'cat',\n",
    "        'unknown':'cat'}\n",
    "    num_col = []\n",
    "    cat_col = []\n",
    "    for var in dataset.columns:\n",
    "        if vtype[var]=='num':\n",
    "            num_col.append(var)\n",
    "        else:\n",
    "            cat_col.append(var)\n",
    "    X_num = dataset[num_col].values\n",
    "    X_cat = dataset[cat_col].values\n",
    "    scaler = StandardScaler()\n",
    "    X_num_scaled = scaler.fit_transform(X_num)\n",
    "    X_scaled = np.concatenate((X_num_scaled, X_cat), axis = 1) \n",
    "    return X_scaled\n",
    "\n",
    "def standardize_0(dataset):\n",
    "    from sklearn.preprocessing import StandardScaler\n",
    "    vtype ={'customer_unique_id':'num',\n",
    "        'geolocation_lat':'num',\n",
    "        'geolocation_lng':'num',\n",
    "        'freight_value':'num',\n",
    "        'payment_value':'num',\n",
    "        'payment_installments':'num',\n",
    "        'review_score':'num',\n",
    "        'review_comment':'cat',\n",
    "        'number_of_orders':'num',\n",
    "        'number_of_items':'num',\n",
    "        'recency_customer':'num',\n",
    "        'credit_card':'cat',\n",
    "        'voucher':'cat',\n",
    "        'boleto':'cat',\n",
    "        'debit_card':'cat',\n",
    "        'not_defined':'cat',\n",
    "        'home':'cat',\n",
    "        'beauty':'cat', \n",
    "        'office':'cat',\n",
    "        'multimedia':'cat',\n",
    "        'children':'cat',\n",
    "        'construction':'cat',\n",
    "        'fashion':'cat',\n",
    "        'sport':'cat',\n",
    "        'books':'cat',\n",
    "        'food':'cat',\n",
    "        'industry':'cat',\n",
    "        'other':'cat',\n",
    "        'unknown':'cat'}\n",
    "    num_col = []\n",
    "    cat_col = []\n",
    "    for var in dataset.columns:\n",
    "        if vtype[var]=='num':\n",
    "            num_col.append(var)\n",
    "        else:\n",
    "            cat_col.append(var)\n",
    "    X_num = dataset[num_col].values\n",
    "    X_cat = dataset[cat_col].values\n",
    "    scaler = StandardScaler()\n",
    "    X_num_scaled = scaler.fit_transform(X_num)\n",
    "    X_scaled = np.concatenate((X_num_scaled, X_cat), axis = 1) \n",
    "    return scaler, X_scaled"
   ]
  },
  {
   "cell_type": "code",
   "execution_count": 14,
   "metadata": {
    "executionInfo": {
     "elapsed": 2561,
     "status": "ok",
     "timestamp": 1657006343325,
     "user": {
      "displayName": "Nabil Tighidet",
      "userId": "12566598302236413236"
     },
     "user_tz": -120
    },
    "id": "Tj7zCW1_GwRg"
   },
   "outputs": [],
   "source": [
    "# Entraînement du modèle M_0 sur le dataset_0\n",
    "first_date = orders_model[\"order_purchase_timestamp\"].min()\n",
    "update_date = first_date + timedelta(days=180)\n",
    "last_date = orders_model[\"order_purchase_timestamp\"].max()\n",
    "# complete_dataset = customers_dataset(orders_model, first_date,last_date+timedelta(seconds=1))\n",
    "dataset_0 = customers_dataset(orders_model, first_date, update_date)[\n",
    "    [\n",
    "        \"recency_customer\",\n",
    "        \"number_of_orders\",\n",
    "        \"payment_value\",\n",
    "        \"payment_installments\",\n",
    "        \"review_score\",\n",
    "    ]\n",
    "]\n",
    "scaler_0, X_scaled_0 = standardize_0(dataset_0)\n",
    "kmeans_0 = KMeans(n_clusters=5).fit(X_scaled_0)"
   ]
  },
  {
   "cell_type": "code",
   "execution_count": 15,
   "metadata": {
    "colab": {
     "base_uri": "https://localhost:8080/"
    },
    "executionInfo": {
     "elapsed": 307264,
     "status": "ok",
     "timestamp": 1657006650586,
     "user": {
      "displayName": "Nabil Tighidet",
      "userId": "12566598302236413236"
     },
     "user_tz": -120
    },
    "id": "hc9Xd6Txy0wy",
    "outputId": "d2212009-ab49-47aa-c01d-456abb59021b"
   },
   "outputs": [],
   "source": [
    "# Tracé de l'évolution du score ARI entre le dataset_0 et le dataset_i (à date) en fonction de la fréquence de mise à jour.\n",
    "frequency = [\"W\", \"SM\", \"MS\", \"Q\", \"YS\"]\n",
    "ari_scores = []\n",
    "for d in pd.date_range(str(update_date), str(last_date), freq=\"W\"):\n",
    "    df = dataset_0[\n",
    "        [\n",
    "            \"recency_customer\",\n",
    "            \"number_of_orders\",\n",
    "            \"payment_value\",\n",
    "            \"payment_installments\",\n",
    "            \"review_score\",\n",
    "        ]\n",
    "    ]\n",
    "    dataset_i = customers_dataset(orders_model, update_date, d + timedelta(seconds=1))[\n",
    "        [\n",
    "            \"recency_customer\",\n",
    "            \"number_of_orders\",\n",
    "            \"payment_value\",\n",
    "            \"payment_installments\",\n",
    "            \"review_score\",\n",
    "        ]\n",
    "    ]\n",
    "    df = df.append(dataset_i).reset_index(drop=True)\n",
    "    X = df.values\n",
    "    X_scaled_i_scaler_0 = scaler_0.transform(X)\n",
    "    scaler_i = StandardScaler()\n",
    "    X_scaled_i_scaler_i = scaler_i.fit_transform(X)\n",
    "    labels_0 = kmeans_0.predict(X_scaled_i_scaler_0)\n",
    "    labels_i = KMeans(n_clusters=5).fit(X_scaled_i_scaler_i).labels_\n",
    "    ari = adjusted_rand_score(labels_0, labels_i)\n",
    "    ari_scores.append(ari)\n",
    "    clear_output()"
   ]
  },
  {
   "cell_type": "code",
   "execution_count": 16,
   "metadata": {
    "colab": {
     "base_uri": "https://localhost:8080/",
     "height": 350
    },
    "executionInfo": {
     "elapsed": 476,
     "status": "ok",
     "timestamp": 1657006651055,
     "user": {
      "displayName": "Nabil Tighidet",
      "userId": "12566598302236413236"
     },
     "user_tz": -120
    },
    "id": "-bry99LOYJQ3",
    "outputId": "031341e0-d57c-431f-f383-da262455674d"
   },
   "outputs": [
    {
     "data": {
      "image/png": "[encoded data removed]",
      "text/plain": [
       "<Figure size 1080x360 with 2 Axes>"
      ]
     },
     "metadata": {
      "needs_background": "light"
     },
     "output_type": "display_data"
    }
   ],
   "source": [
    "# Tracé de l'évolution du score ARI entre le dataset_0 et le dataset_i (à date) en fonction de la fréquence de mise à jour.\n",
    "n = 15\n",
    "fig, ax = plt.subplots(1, 2, figsize=(15, 5))\n",
    "ax[0].plot(range(len(ari_scores)), ari_scores, linestyle=\"-\")\n",
    "ax[0].set_title(\"ARI SCORE VS FREQUENCY\")\n",
    "ax[0].set_xlabel(\"WEEKS\")\n",
    "ax[0].set_ylabel(\"ARI SCORE\")\n",
    "ax[1].plot(range(len(ari_scores[:n])), ari_scores[:n], linestyle=\"-\")\n",
    "ax[1].set_title(\"ARI SCORE VS FREQUENCY (ZOOM on first weeks)\")\n",
    "ax[1].set_xlabel(\"WEEKS\")\n",
    "ax[1].set_ylabel(\"ARI SCORE\")\n",
    "plt.show()"
   ]
  },
  {
   "cell_type": "code",
   "execution_count": null,
   "metadata": {
    "id": "aEnzYJLzAmCC"
   },
   "outputs": [],
   "source": []
  }
 ],
 "metadata": {
  "colab": {
   "authorship_tag": "ABX9TyPZWTvPa6wDVBkqI5VYBlvM",
   "collapsed_sections": [],
   "mount_file_id": "1xTMSZmw_ImGBJF_MYBSTlkabkaPK7A_A",
   "name": "TIGHIDET_Nabil_3_notebook_simulation_062022.ipynb",
   "provenance": []
  },
  "kernelspec": {
   "display_name": "Python 3 (ipykernel)",
   "language": "python",
   "name": "python3"
  },
  "language_info": {
   "codemirror_mode": {
    "name": "ipython",
    "version": 3
   },
   "file_extension": ".py",
   "mimetype": "text/x-python",
   "name": "python",
   "nbconvert_exporter": "python",
   "pygments_lexer": "ipython3",
   "version": "3.10.4"
  }
 },
 "nbformat": 4,
 "nbformat_minor": 1
}
